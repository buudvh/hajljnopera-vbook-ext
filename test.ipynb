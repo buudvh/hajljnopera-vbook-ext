{
 "cells": [
  {
   "cell_type": "code",
   "execution_count": 11,
   "id": "5b4f9ad9",
   "metadata": {},
   "outputs": [
    {
     "name": "stdout",
     "output_type": "stream",
     "text": [
      "Requirement already satisfied: selenium in d:\\study\\vbook-ext\\.venv\\lib\\site-packages (4.27.1)\n",
      "Requirement already satisfied: webdriver-manager in d:\\study\\vbook-ext\\.venv\\lib\\site-packages (4.0.2)\n",
      "Requirement already satisfied: requests in d:\\study\\vbook-ext\\.venv\\lib\\site-packages (2.32.4)\n",
      "Requirement already satisfied: urllib3<3,>=1.26 in d:\\study\\vbook-ext\\.venv\\lib\\site-packages (from urllib3[socks]<3,>=1.26->selenium) (2.2.3)\n",
      "Requirement already satisfied: trio~=0.17 in d:\\study\\vbook-ext\\.venv\\lib\\site-packages (from selenium) (0.27.0)\n",
      "Requirement already satisfied: trio-websocket~=0.9 in d:\\study\\vbook-ext\\.venv\\lib\\site-packages (from selenium) (0.12.2)\n",
      "Requirement already satisfied: certifi>=2021.10.8 in d:\\study\\vbook-ext\\.venv\\lib\\site-packages (from selenium) (2025.6.15)\n",
      "Requirement already satisfied: typing_extensions~=4.9 in d:\\study\\vbook-ext\\.venv\\lib\\site-packages (from selenium) (4.13.2)\n",
      "Requirement already satisfied: websocket-client~=1.8 in d:\\study\\vbook-ext\\.venv\\lib\\site-packages (from selenium) (1.8.0)\n",
      "Requirement already satisfied: python-dotenv in d:\\study\\vbook-ext\\.venv\\lib\\site-packages (from webdriver-manager) (1.0.1)\n",
      "Requirement already satisfied: packaging in d:\\study\\vbook-ext\\.venv\\lib\\site-packages (from webdriver-manager) (25.0)\n",
      "Requirement already satisfied: charset_normalizer<4,>=2 in d:\\study\\vbook-ext\\.venv\\lib\\site-packages (from requests) (3.4.2)\n",
      "Requirement already satisfied: idna<4,>=2.5 in d:\\study\\vbook-ext\\.venv\\lib\\site-packages (from requests) (3.10)\n",
      "Requirement already satisfied: attrs>=23.2.0 in d:\\study\\vbook-ext\\.venv\\lib\\site-packages (from trio~=0.17->selenium) (25.3.0)\n",
      "Requirement already satisfied: sortedcontainers in d:\\study\\vbook-ext\\.venv\\lib\\site-packages (from trio~=0.17->selenium) (2.4.0)\n",
      "Requirement already satisfied: outcome in d:\\study\\vbook-ext\\.venv\\lib\\site-packages (from trio~=0.17->selenium) (1.3.0.post0)\n",
      "Requirement already satisfied: sniffio>=1.3.0 in d:\\study\\vbook-ext\\.venv\\lib\\site-packages (from trio~=0.17->selenium) (1.3.1)\n",
      "Requirement already satisfied: cffi>=1.14 in d:\\study\\vbook-ext\\.venv\\lib\\site-packages (from trio~=0.17->selenium) (1.17.1)\n",
      "Requirement already satisfied: exceptiongroup in d:\\study\\vbook-ext\\.venv\\lib\\site-packages (from trio~=0.17->selenium) (1.3.0)\n",
      "Requirement already satisfied: wsproto>=0.14 in d:\\study\\vbook-ext\\.venv\\lib\\site-packages (from trio-websocket~=0.9->selenium) (1.2.0)\n",
      "Requirement already satisfied: pysocks!=1.5.7,<2.0,>=1.5.6 in d:\\study\\vbook-ext\\.venv\\lib\\site-packages (from urllib3[socks]<3,>=1.26->selenium) (1.7.1)\n",
      "Requirement already satisfied: pycparser in d:\\study\\vbook-ext\\.venv\\lib\\site-packages (from cffi>=1.14->trio~=0.17->selenium) (2.22)\n",
      "Requirement already satisfied: h11<1,>=0.9.0 in d:\\study\\vbook-ext\\.venv\\lib\\site-packages (from wsproto>=0.14->trio-websocket~=0.9->selenium) (0.16.0)\n",
      "Note: you may need to restart the kernel to use updated packages.\n"
     ]
    }
   ],
   "source": [
    "%pip install selenium webdriver-manager requests"
   ]
  },
  {
   "cell_type": "code",
   "execution_count": 21,
   "id": "50713fec",
   "metadata": {},
   "outputs": [
    {
     "name": "stdout",
     "output_type": "stream",
     "text": [
      "JSON decode error: Expecting value: line 3 column 24 (char 54)\n",
      "None\n"
     ]
    }
   ],
   "source": [
    "from selenium import webdriver\n",
    "from selenium.webdriver.chrome.service import Service\n",
    "from selenium.webdriver.chrome.options import Options\n",
    "from webdriver_manager.chrome import ChromeDriverManager\n",
    "from selenium.webdriver.common.by import By\n",
    "from selenium.webdriver.support.ui import WebDriverWait\n",
    "from selenium.webdriver.support import expected_conditions as EC\n",
    "import time\n",
    "import re\n",
    "import json\n",
    "\n",
    "def open_browser(url):\n",
    "    options = Options()\n",
    "    # options.add_argument(\"--headless\")  # Chạy chế độ không hiển thị (bắt buộc trên Colab)\n",
    "    # options.add_argument(\"--no-sandbox\")\n",
    "    # options.add_argument(\"--disable-dev-shm-usage\")\n",
    "    # options.binary_location = \"/usr/bin/google-chrome\"  # Đường dẫn Chrome trên Colab\n",
    "\n",
    "    # service = Service(ChromeDriverManager().install())  # Tự động tải ChromeDriver\n",
    "    # driver = webdriver.Chrome(service=service, options=options)\n",
    "\n",
    "    # Cấu hình Chrome headless (không hiện cửa sổ)\n",
    "    options = Options()\n",
    "    options.add_argument('--headless')\n",
    "    options.add_argument('--disable-gpu')\n",
    "\n",
    "    # Tạo driver\n",
    "    driver = webdriver.Chrome(service=Service(ChromeDriverManager().install()), options=options)\n",
    "\n",
    "    print(f\"🌐 Đang mở URL: {url}\")\n",
    "    driver.get(url)\n",
    "    time.sleep(5) #đợi trước 5 giây\n",
    "    #tiếp tục đợi nếu page chưa load xong\n",
    "    while driver.page_source.find(\"Just a moment..\") != -1:\n",
    "        print(\"⏳ Chờ đợi trang web tải...\")\n",
    "        driver.get(url)\n",
    "        time.sleep(5)\n",
    "    html_content_gbk = \"\"\n",
    "\n",
    "    try:\n",
    "        # content = WebDriverWait(driver, 10).until(\n",
    "        #     EC.visibility_of_element_located((By.CSS_SELECTOR, \"div.txtnav, div.content\"))\n",
    "        # ).text\n",
    "        # print(f\"✅ Lấy nội dung trang web thành công ({len(content)} ký tự)\")\n",
    "\n",
    "        # print(content)\n",
    "\n",
    "        html_content_gbk = driver.page_source.encode(\"utf-8\").decode(\"gbk\", errors=\"ignore\")\n",
    "        # print(html_content_gbk)\n",
    "        \n",
    "    except Exception as e:\n",
    "        # print(driver.page_source)\n",
    "        print(\"❌ Không tìm thấy nội dung cần dịch!\")\n",
    "        print(f\"❌ Lỗi khi lấy nội dung trang web: {e}\")\n",
    "        html_content_gbk = \"\"\n",
    "\n",
    "    driver.quit()\n",
    "    return html_content_gbk\n",
    "\n",
    "def get_book_info(html: str):\n",
    "    match = re.search(r'var\\s+bookinfo\\s*=\\s*(\\{.*?\\});', html, re.DOTALL)\n",
    "    if not match:\n",
    "        return None\n",
    "\n",
    "    bookinfo_text = match.group(1)\n",
    "\n",
    "    # Chuyển JS object → JSON-compatible string\n",
    "    bookinfo_text = re.sub(r'(\\w+):', r'\"\\1\":', bookinfo_text)  # key: → \"key\":\n",
    "    bookinfo_text = re.sub(r',\\s*}', '}', bookinfo_text)        # bỏ dấu , cuối object\n",
    "    bookinfo_text = re.sub(r',\\s*]', ']', bookinfo_text)        # bỏ dấu , cuối array\n",
    "\n",
    "    try:\n",
    "        return json.loads(bookinfo_text)\n",
    "    except json.JSONDecodeError as e:\n",
    "        print(\"JSON decode error:\", e)\n",
    "        return None\n",
    "\n",
    "\n",
    "html_content_gbk = open_browser(\"https://www.69shuba.com/book/89532.htm\")\n",
    "\n",
    "get_book_info(html_content_gbk)"
   ]
  },
  {
   "cell_type": "code",
   "execution_count": null,
   "id": "c7ac54ff",
   "metadata": {},
   "outputs": [
    {
     "name": "stdout",
     "output_type": "stream",
     "text": [
      "<center><br>Không có bình luận</center><div id='cmtwd' data-start='0'></div>\n"
     ]
    }
   ],
   "source": [
    "import requests\n",
    "\n",
    "data = {\n",
    "            \"start\": 100,\n",
    "            \"objectid\": \"56909\",\n",
    "            \"objecttype\": \"69shu\"\n",
    "        }\n",
    "response = requests.post(\"http://14.225.254.182/io/comment/webComments\",data=data)\n",
    "print(response.content.decode(\"utf-8\"))"
   ]
  }
 ],
 "metadata": {
  "kernelspec": {
   "display_name": ".venv",
   "language": "python",
   "name": "python3"
  },
  "language_info": {
   "codemirror_mode": {
    "name": "ipython",
    "version": 3
   },
   "file_extension": ".py",
   "mimetype": "text/x-python",
   "name": "python",
   "nbconvert_exporter": "python",
   "pygments_lexer": "ipython3",
   "version": "3.8.10"
  }
 },
 "nbformat": 4,
 "nbformat_minor": 5
}
